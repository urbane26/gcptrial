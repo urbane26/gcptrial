{
 "cells": [
  {
   "cell_type": "code",
   "execution_count": 6,
   "id": "17f4bcb2",
   "metadata": {},
   "outputs": [
    {
     "name": "stdout",
     "output_type": "stream",
     "text": [
      "C:\\Users\\chakr\n"
     ]
    }
   ],
   "source": [
    "import pandas as pd\n",
    "import os\n",
    "import numpy as np\n",
    "from sklearn.linear_model import LinearRegression\n",
    "from feature_engine.encoding import OneHotEncoder\n",
    "from sklearn.model_selection import train_test_split\n",
    "from sklearn.preprocessing import MinMaxScaler\n",
    "from sklearn.metrics import r2_score\n",
    "print(os.getcwd())"
   ]
  },
  {
   "cell_type": "code",
   "execution_count": 7,
   "id": "85d489c4",
   "metadata": {},
   "outputs": [
    {
     "name": "stdout",
     "output_type": "stream",
     "text": [
      "<class 'pandas.core.frame.DataFrame'>\n",
      "RangeIndex: 53940 entries, 0 to 53939\n",
      "Data columns (total 10 columns):\n",
      " #   Column   Non-Null Count  Dtype  \n",
      "---  ------   --------------  -----  \n",
      " 0   carat    53940 non-null  float64\n",
      " 1   cut      53940 non-null  object \n",
      " 2   color    53940 non-null  object \n",
      " 3   clarity  53940 non-null  object \n",
      " 4   depth    53940 non-null  float64\n",
      " 5   table    53940 non-null  float64\n",
      " 6   price    53940 non-null  int64  \n",
      " 7   x        53940 non-null  float64\n",
      " 8   y        53940 non-null  float64\n",
      " 9   z        53940 non-null  float64\n",
      "dtypes: float64(6), int64(1), object(3)\n",
      "memory usage: 4.1+ MB\n",
      "<class 'pandas.core.frame.DataFrame'>\n",
      "RangeIndex: 53940 entries, 0 to 53939\n",
      "Data columns (total 24 columns):\n",
      " #   Column         Non-Null Count  Dtype  \n",
      "---  ------         --------------  -----  \n",
      " 0   carat          53940 non-null  float64\n",
      " 1   depth          53940 non-null  float64\n",
      " 2   table          53940 non-null  float64\n",
      " 3   price          53940 non-null  int64  \n",
      " 4   x              53940 non-null  float64\n",
      " 5   y              53940 non-null  float64\n",
      " 6   z              53940 non-null  float64\n",
      " 7   cut_Good       53940 non-null  int32  \n",
      " 8   cut_Premium    53940 non-null  int32  \n",
      " 9   cut_Fair       53940 non-null  int32  \n",
      " 10  cut_Very Good  53940 non-null  int32  \n",
      " 11  color_D        53940 non-null  int32  \n",
      " 12  color_E        53940 non-null  int32  \n",
      " 13  color_F        53940 non-null  int32  \n",
      " 14  color_G        53940 non-null  int32  \n",
      " 15  color_H        53940 non-null  int32  \n",
      " 16  color_I        53940 non-null  int32  \n",
      " 17  clarity_SI2    53940 non-null  int32  \n",
      " 18  clarity_SI1    53940 non-null  int32  \n",
      " 19  clarity_VS2    53940 non-null  int32  \n",
      " 20  clarity_I1     53940 non-null  int32  \n",
      " 21  clarity_VS1    53940 non-null  int32  \n",
      " 22  clarity_VVS2   53940 non-null  int32  \n",
      " 23  clarity_VVS1   53940 non-null  int32  \n",
      "dtypes: float64(6), int32(17), int64(1)\n",
      "memory usage: 6.4 MB\n"
     ]
    }
   ],
   "source": [
    "df = pd.read_csv('diamonds.csv')\n",
    "df.info()\n",
    "enc = OneHotEncoder(drop_last=True,top_categories = None,variables = ['cut','color','clarity'])\n",
    "databq = enc.fit_transform(df)\n",
    "databq.info()\n",
    "databq.rename(columns = {'cut_Very Good':'cut_Excl'},inplace = True)\n",
    "databqcols = databq.columns.to_list()\n",
    "scalar = MinMaxScaler()\n",
    "databq[['carat','depth','table','price','x','y','z']] = scalar.fit_transform(databq[['carat','depth','table','price','x','y','z']])\n"
   ]
  },
  {
   "cell_type": "code",
   "execution_count": 8,
   "id": "08223008",
   "metadata": {},
   "outputs": [],
   "source": [
    "y = databq['price']\n",
    "X = databq.drop(['price'],axis = 1)\n",
    "\n",
    "X_train, X_test, y_train, y_test = train_test_split(X, y, test_size=0.33, random_state=42)"
   ]
  },
  {
   "cell_type": "code",
   "execution_count": 10,
   "id": "18b07c99",
   "metadata": {},
   "outputs": [],
   "source": [
    "model = LinearRegression()\n",
    "output = model.fit(X_train,y_train) \n",
    "test_prediction = output.predict(X_test)\n"
   ]
  },
  {
   "cell_type": "code",
   "execution_count": 11,
   "id": "7583385d",
   "metadata": {},
   "outputs": [
    {
     "name": "stdout",
     "output_type": "stream",
     "text": [
      "0.9222568335157912\n"
     ]
    }
   ],
   "source": [
    "R2_value = r2_score(y_test,test_prediction)\n",
    "print(R2_value)"
   ]
  },
  {
   "cell_type": "code",
   "execution_count": null,
   "id": "387731b1",
   "metadata": {},
   "outputs": [],
   "source": []
  }
 ],
 "metadata": {
  "kernelspec": {
   "display_name": "Python 3 (ipykernel)",
   "language": "python",
   "name": "python3"
  },
  "language_info": {
   "codemirror_mode": {
    "name": "ipython",
    "version": 3
   },
   "file_extension": ".py",
   "mimetype": "text/x-python",
   "name": "python",
   "nbconvert_exporter": "python",
   "pygments_lexer": "ipython3",
   "version": "3.9.12"
  }
 },
 "nbformat": 4,
 "nbformat_minor": 5
}
